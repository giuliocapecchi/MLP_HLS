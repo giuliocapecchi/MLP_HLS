{
 "cells": [
  {
   "cell_type": "markdown",
   "metadata": {},
   "source": [
    "# ConvNet Weights Initialization\n",
    "\n",
    "In this notebook, we will create and save locally the weights of a simple Convolutional Neural Network (ConvNet) designed for the MNIST handwritten digit dataset.\n",
    "\n",
    "### Dataset Overview\n",
    "\n",
    "The MNIST dataset is a benchmark dataset consistsing of:\n",
    "\n",
    "- **Features**:  \n",
    "  $28 * 28$ grayscale images of handwritten digits, with $60,000$ training samples and $10,000$ test samples.\n",
    "    \n",
    "- **Labels**:  \n",
    "  The target variable representing the digit in the image, which can take one of the following values:  \n",
    "  $ \\{0, 1, 2, 3, 4, 5, 6, 7, 8, 9\\} $.\n",
    "    \n",
    "\n",
    "The dataset is publicly available and can be downloaded from the [MNIST dataset page](http://yann.lecun.com/exdb/mnist/) or other sources. In this notebook we will pull it using the `torchvision` library.\n",
    "\n",
    "### ConvNet Architecture\n",
    "\n",
    "The ConvNet is designed to be as simple as possible, ensuring efficiency and compatibility with hardware synthesis using **Vitis HLS**. The architecture includes:\n",
    "\n",
    "1. **Convolutional Layers**:\n",
    "   - **Conv1**: $32$ filters of size $3 \\times 3$, stride $1$, and padding $1$.\n",
    "   - **Conv2**: $64$ filters of size $3 \\times 3$, stride $1$, and padding $1$.\n",
    "   - Both layers use the **ReLU** activation function.\n",
    "\n",
    "2. **Pooling Layer**:\n",
    "   - Max pooling layer with a kernel size of $2 \\times 2$ and stride $2$, reducing the spatial dimensions by half.\n",
    "\n",
    "3. **Fully Connected Layers**:\n",
    "   - **FC1**: Fully connected layer with $128$ neurons, using the **ReLU** activation function.\n",
    "   - **Output Layer (FC2)**: Fully connected layer with $10$ neurons, corresponding to the ten digit classes (0–9). This layer does not apply an activation function, as it is followed by the softmax during training or inference.\n",
    "\n",
    "---\n",
    "\n",
    "Let's start by downloading the dataset using `torchvision`"
   ]
  },
  {
   "cell_type": "code",
   "execution_count": 1,
   "metadata": {},
   "outputs": [],
   "source": [
    "import torchvision\n",
    "\n",
    "dataset = torchvision.datasets.MNIST(\n",
    "    \"./data\",\n",
    "    train=True,\n",
    "    download=True,\n",
    "    transform = torchvision.transforms.Compose([\n",
    "        torchvision.transforms.ToTensor(),\n",
    "        torchvision.transforms.Normalize((0.5,), (0.5,))\n",
    "    ])\n",
    ")\n",
    "\n",
    "test_dataset = torchvision.datasets.MNIST(\n",
    "    \"./data\",\n",
    "    train=False,\n",
    "    download=True,\n",
    "    transform=torchvision.transforms.Compose([\n",
    "        torchvision.transforms.ToTensor(),\n",
    "        torchvision.transforms.Normalize((0.5,), (0.5,))\n",
    "    ])\n",
    ")"
   ]
  },
  {
   "cell_type": "markdown",
   "metadata": {},
   "source": [
    "We can now proceed by defining the ConvNet class, which will inherit from PyTorch's `nn.Module`."
   ]
  },
  {
   "cell_type": "code",
   "execution_count": 2,
   "metadata": {},
   "outputs": [
    {
     "name": "stdout",
     "output_type": "stream",
     "text": [
      "Using device: cuda\n"
     ]
    }
   ],
   "source": [
    "import torch\n",
    "import torch.nn as nn\n",
    "\n",
    "# check GPU availability\n",
    "device = torch.device('cuda' if torch.cuda.is_available() else 'cpu')\n",
    "print(f\"Using device: {device}\")\n",
    "\n",
    "class ConvNet(nn.Module):\n",
    "    def __init__(self):\n",
    "        super(ConvNet, self).__init__()\n",
    "        # x = [1, 28, 28]\n",
    "        self.conv1 = nn.Conv2d(1, 3, kernel_size=3, stride=1, padding=1)  # 5 filters of size 3x3, formula is (W−F+2P)/S+1\n",
    "        # x = [3, 28, 28]\n",
    "        self.pool = nn.MaxPool2d(kernel_size=2, stride=2)  # Pooling, formula is (W−F)/S+1\n",
    "        # x = [3, 14, 14]\n",
    "        self.fc1 = nn.Linear(3 * 14 * 14, 10)  # Flatten the output\n",
    "       \n",
    "    def forward(self, x):\n",
    "        x = torch.relu(self.conv1(x))\n",
    "        x = self.pool(x)\n",
    "        x = x.view(x.size(0), -1)  # Flatten the tensor\n",
    "        x = self.fc1(x)\n",
    "        return x\n"
   ]
  },
  {
   "cell_type": "code",
   "execution_count": 3,
   "metadata": {},
   "outputs": [
    {
     "name": "stdout",
     "output_type": "stream",
     "text": [
      "Training samples: 42000, Validation samples: 18000, Test samples: 10000\n",
      "Number of parameters in the model: 5920\n",
      "Epoch [10/100], Train Loss: 0.1194, Train Acc: 96.49%, Val Loss: 0.1360, Val Acc: 96.03%\n",
      "Epoch [20/100], Train Loss: 0.0907, Train Acc: 97.30%, Val Loss: 0.1232, Val Acc: 96.38%\n",
      "Epoch [30/100], Train Loss: 0.0735, Train Acc: 97.74%, Val Loss: 0.1130, Val Acc: 96.77%\n",
      "Epoch [40/100], Train Loss: 0.0636, Train Acc: 98.03%, Val Loss: 0.1122, Val Acc: 96.79%\n",
      "Epoch [50/100], Train Loss: 0.0571, Train Acc: 98.27%, Val Loss: 0.1147, Val Acc: 96.75%\n",
      "Epoch [60/100], Train Loss: 0.0521, Train Acc: 98.34%, Val Loss: 0.1147, Val Acc: 96.88%\n",
      "Epoch [70/100], Train Loss: 0.0491, Train Acc: 98.39%, Val Loss: 0.1259, Val Acc: 96.73%\n",
      "Epoch [80/100], Train Loss: 0.0459, Train Acc: 98.53%, Val Loss: 0.1285, Val Acc: 96.69%\n",
      "Epoch [90/100], Train Loss: 0.0439, Train Acc: 98.55%, Val Loss: 0.1342, Val Acc: 96.61%\n",
      "Epoch [100/100], Train Loss: 0.0411, Train Acc: 98.71%, Val Loss: 0.1325, Val Acc: 96.76%\n",
      "Final Test Loss: 0.1260, Test Accuracy: 97.06%\n"
     ]
    }
   ],
   "source": [
    "import torch.optim as optim\n",
    "from torch.utils.data import DataLoader, random_split\n",
    "\n",
    "\n",
    "# Set random seed for reproducibility\n",
    "torch.manual_seed(4242)\n",
    "\n",
    "# hyperparameters\n",
    "batch_size = 64\n",
    "NUM_EPOCHS = 100\n",
    "learning_rate = 0.001\n",
    "\n",
    "# split dataset into training and validation sets (70% train, 30% val)\n",
    "train_size = int(0.7 * len(dataset))\n",
    "val_size = len(dataset) - train_size\n",
    "train_dataset, val_dataset = random_split(dataset, [train_size, val_size])\n",
    "\n",
    "train_loader = DataLoader(dataset=train_dataset, batch_size=batch_size, shuffle=True)\n",
    "val_loader = DataLoader(dataset=val_dataset, batch_size=batch_size, shuffle=False)\n",
    "test_loader = DataLoader(dataset=test_dataset, batch_size=batch_size, shuffle=False)\n",
    "\n",
    "print(f\"Training samples: {len(train_dataset)}, Validation samples: {len(val_dataset)}, Test samples: {len(test_dataset)}\")\n",
    "\n",
    "# initialize network, loss function and optimizer\n",
    "model = ConvNet().to(device)\n",
    "criterion = nn.CrossEntropyLoss()\n",
    "optimizer = optim.Adam(model.parameters(), lr=learning_rate)\n",
    "\n",
    "print(\"Number of parameters in the model:\", sum(p.numel() for p in model.parameters() if p.requires_grad))\n",
    "\n",
    "# training loop\n",
    "for epoch in range(NUM_EPOCHS):\n",
    "    model.train()\n",
    "    train_loss = 0.0\n",
    "    train_correct = 0\n",
    "    train_total = 0\n",
    "\n",
    "    for images, labels in train_loader:\n",
    "        images, labels = images.to(device), labels.to(device)\n",
    "\n",
    "        optimizer.zero_grad()\n",
    "        outputs = model(images)\n",
    "        loss = criterion(outputs, labels)\n",
    "        loss.backward()\n",
    "        optimizer.step()\n",
    "\n",
    "        train_loss += loss.item()\n",
    "        _, predicted = outputs.max(1)\n",
    "        train_total += labels.size(0)\n",
    "        train_correct += predicted.eq(labels).sum().item()\n",
    "\n",
    "    train_accuracy = 100. * train_correct / train_total\n",
    "\n",
    "    # validation phase\n",
    "    model.eval()\n",
    "    val_loss = 0.0\n",
    "    val_correct = 0\n",
    "    val_total = 0\n",
    "\n",
    "    with torch.no_grad():  # disable gradient calculations\n",
    "        for images, labels in val_loader:\n",
    "            images, labels = images.to(device), labels.to(device)\n",
    "\n",
    "            outputs = model(images)\n",
    "            loss = criterion(outputs, labels)\n",
    "\n",
    "            val_loss += loss.item()\n",
    "            _, predicted = outputs.max(1)\n",
    "            val_total += labels.size(0)\n",
    "            val_correct += predicted.eq(labels).sum().item()\n",
    "\n",
    "    val_accuracy = 100. * val_correct / val_total\n",
    "\n",
    "    if (epoch + 1) % 10 == 0:\n",
    "        print(f\"Epoch [{epoch + 1}/{NUM_EPOCHS}], \"\n",
    "              f\"Train Loss: {train_loss / len(train_loader):.4f}, Train Acc: {train_accuracy:.2f}%, \"\n",
    "              f\"Val Loss: {val_loss / len(val_loader):.4f}, Val Acc: {val_accuracy:.2f}%\")\n",
    "\n",
    "# test phase\n",
    "model.eval()\n",
    "test_loss = 0.0\n",
    "test_correct = 0\n",
    "test_total = 0\n",
    "\n",
    "with torch.no_grad():\n",
    "    for images, labels in test_loader:\n",
    "        images, labels = images.to(device), labels.to(device)\n",
    "\n",
    "        outputs = model(images)\n",
    "        loss = criterion(outputs, labels)\n",
    "\n",
    "        test_loss += loss.item()\n",
    "        _, predicted = outputs.max(1)\n",
    "        test_total += labels.size(0)\n",
    "        test_correct += predicted.eq(labels).sum().item()\n",
    "\n",
    "test_accuracy = 100. * test_correct / test_total\n",
    "print(f\"Final Test Loss: {test_loss / len(test_loader):.4f}, Test Accuracy: {test_accuracy:.2f}%\")"
   ]
  },
  {
   "cell_type": "markdown",
   "metadata": {},
   "source": [
    "First, extract the weights of the model:"
   ]
  },
  {
   "cell_type": "code",
   "execution_count": 4,
   "metadata": {},
   "outputs": [
    {
     "name": "stdout",
     "output_type": "stream",
     "text": [
      "conv1.weight: torch.Size([3, 1, 3, 3]), Total Parameters: 27\n",
      "conv1.bias: torch.Size([3]), Total Parameters: 3\n",
      "fc1.weight: torch.Size([10, 588]), Total Parameters: 5880\n",
      "fc1.bias: torch.Size([10]), Total Parameters: 10\n",
      "Total Parameters in the model: 5920\n"
     ]
    }
   ],
   "source": [
    "weights = {}\n",
    "total_params = 0\n",
    "for name, param in model.to(\"cpu\").named_parameters():\n",
    "    weights[name] = param.detach().numpy()\n",
    "    layer_params = param.numel()\n",
    "    total_params += layer_params\n",
    "    print(f\"{name}: {param.shape}, Total Parameters: {layer_params}\")\n",
    "\n",
    "print(f\"Total Parameters in the model: {total_params}\")"
   ]
  },
  {
   "cell_type": "markdown",
   "metadata": {},
   "source": [
    "Finally, save them to a txt file:"
   ]
  },
  {
   "cell_type": "code",
   "execution_count": 5,
   "metadata": {},
   "outputs": [],
   "source": [
    "# write weights and biases to a file\n",
    "with open('./convnet_weights.txt', 'w') as f:\n",
    "    for name, weight in weights.items():\n",
    "        f.write(f\"{name}, shape: {weight.shape}\\n\")\n",
    "        if weight.ndim > 2:  # Reshape weights with dimensions > 2 to 2D\n",
    "            weight = weight.reshape(weight.shape[0], -1)\n",
    "        if weight.ndim == 1:  # If bias or 1D weights, write on one line separated by commas\n",
    "            f.write(\"{\")\n",
    "            f.write(\",\".join(map(str, weight)) + \"},\\n\")\n",
    "        else:  # For other weights, save as rows in the file\n",
    "            for row in weight:\n",
    "                f.write(\"{\")\n",
    "                f.write(\",\".join(map(str, row)) + \"},\\n\")"
   ]
  }
 ],
 "metadata": {
  "kernelspec": {
   "display_name": "SEAI",
   "language": "python",
   "name": "python3"
  },
  "language_info": {
   "codemirror_mode": {
    "name": "ipython",
    "version": 3
   },
   "file_extension": ".py",
   "mimetype": "text/x-python",
   "name": "python",
   "nbconvert_exporter": "python",
   "pygments_lexer": "ipython3",
   "version": "3.12.2"
  }
 },
 "nbformat": 4,
 "nbformat_minor": 2
}
